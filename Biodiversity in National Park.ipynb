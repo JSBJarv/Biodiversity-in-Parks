{
 "cells": [
  {
   "cell_type": "code",
   "execution_count": 1,
   "id": "106da1b9-26ce-423d-b2bb-6ea321a73015",
   "metadata": {},
   "outputs": [],
   "source": [
    "import pandas as pd\n",
    "import numpy as np\n",
    "import matplotlib.pyplot as plt\n",
    "import seaborn as sns\n",
    "import panel as pn\n",
    "import matplotlib.font_manager\n"
   ]
  },
  {
   "cell_type": "code",
   "execution_count": 2,
   "id": "542cf558-928a-40ea-8629-5cd029fa0354",
   "metadata": {},
   "outputs": [],
   "source": [
    "df_obs=pd.read_csv(r'C:\\Users\\Admin\\Desktop\\Notebooks\\Biodiversity\\biodiversity_starter\\observations_file.csv')\n",
    "df_species= pd.read_csv(r'C:\\Users\\Admin\\Desktop\\Notebooks\\Biodiversity\\biodiversity_starter\\species_info.csv')"
   ]
  },
  {
   "cell_type": "code",
   "execution_count": 3,
   "id": "ea26ca67-4621-4104-8522-e5595483e32a",
   "metadata": {},
   "outputs": [
    {
     "data": {
      "text/html": [
       "<div>\n",
       "<style scoped>\n",
       "    .dataframe tbody tr th:only-of-type {\n",
       "        vertical-align: middle;\n",
       "    }\n",
       "\n",
       "    .dataframe tbody tr th {\n",
       "        vertical-align: top;\n",
       "    }\n",
       "\n",
       "    .dataframe thead th {\n",
       "        text-align: right;\n",
       "    }\n",
       "</style>\n",
       "<table border=\"1\" class=\"dataframe\">\n",
       "  <thead>\n",
       "    <tr style=\"text-align: right;\">\n",
       "      <th></th>\n",
       "      <th>scientific_name</th>\n",
       "      <th>park_name</th>\n",
       "      <th>observations</th>\n",
       "    </tr>\n",
       "  </thead>\n",
       "  <tbody>\n",
       "    <tr>\n",
       "      <th>0</th>\n",
       "      <td>Vicia benghalensis</td>\n",
       "      <td>Great Smoky Mountains National Park</td>\n",
       "      <td>68</td>\n",
       "    </tr>\n",
       "    <tr>\n",
       "      <th>1</th>\n",
       "      <td>Neovison vison</td>\n",
       "      <td>Great Smoky Mountains National Park</td>\n",
       "      <td>77</td>\n",
       "    </tr>\n",
       "    <tr>\n",
       "      <th>2</th>\n",
       "      <td>Prunus subcordata</td>\n",
       "      <td>Yosemite National Park</td>\n",
       "      <td>138</td>\n",
       "    </tr>\n",
       "    <tr>\n",
       "      <th>3</th>\n",
       "      <td>Abutilon theophrasti</td>\n",
       "      <td>Bryce National Park</td>\n",
       "      <td>84</td>\n",
       "    </tr>\n",
       "    <tr>\n",
       "      <th>4</th>\n",
       "      <td>Githopsis specularioides</td>\n",
       "      <td>Great Smoky Mountains National Park</td>\n",
       "      <td>85</td>\n",
       "    </tr>\n",
       "  </tbody>\n",
       "</table>\n",
       "</div>"
      ],
      "text/plain": [
       "            scientific_name                            park_name  observations\n",
       "0        Vicia benghalensis  Great Smoky Mountains National Park            68\n",
       "1            Neovison vison  Great Smoky Mountains National Park            77\n",
       "2         Prunus subcordata               Yosemite National Park           138\n",
       "3      Abutilon theophrasti                  Bryce National Park            84\n",
       "4  Githopsis specularioides  Great Smoky Mountains National Park            85"
      ]
     },
     "execution_count": 3,
     "metadata": {},
     "output_type": "execute_result"
    }
   ],
   "source": [
    "df_obs.head()"
   ]
  },
  {
   "cell_type": "code",
   "execution_count": 4,
   "id": "37a9f84f-ad94-4470-a1be-e4c2a0a2ce02",
   "metadata": {},
   "outputs": [
    {
     "name": "stdout",
     "output_type": "stream",
     "text": [
      "['Vicia benghalensis' 'Neovison vison' 'Prunus subcordata' ...\n",
      " 'Ranunculus hebecarpus' 'Gulo gulo' 'Dichanthelium depauperatum']\n",
      "['Great Smoky Mountains National Park' 'Yosemite National Park'\n",
      " 'Bryce National Park' 'Yellowstone National Park']\n"
     ]
    }
   ],
   "source": [
    "print(df_obs.scientific_name.unique())\n",
    "print(df_obs.park_name.unique())"
   ]
  },
  {
   "cell_type": "code",
   "execution_count": 5,
   "id": "16132360-4684-4ce3-aa07-1e7cc69ad792",
   "metadata": {},
   "outputs": [],
   "source": [
    "df_merged=pd.merge(df_species, df_obs)"
   ]
  },
  {
   "cell_type": "code",
   "execution_count": 6,
   "id": "17e44bc8-ae61-427a-b6dd-3e80d978a161",
   "metadata": {},
   "outputs": [],
   "source": [
    "#create new dataframe for names and count of observation per park\n",
    "df_per_park = df_merged.groupby(['park_name', 'scientific_name',\n",
    "            'common_names', 'category'])['observations'].sum().reset_index()"
   ]
  },
  {
   "cell_type": "code",
   "execution_count": 7,
   "id": "711097f8-1d8c-44c4-a539-0887857f1d0c",
   "metadata": {},
   "outputs": [
    {
     "data": {
      "text/plain": [
       "park_name          0\n",
       "scientific_name    0\n",
       "common_names       0\n",
       "category           0\n",
       "observations       0\n",
       "dtype: int64"
      ]
     },
     "execution_count": 7,
     "metadata": {},
     "output_type": "execute_result"
    }
   ],
   "source": [
    "#splitting the common name and taking only the first name\n",
    "df_per_park.common_names=df_per_park.common_names.astype('str')\n",
    "name_split=df_per_park.common_names.str.split(',')\n",
    "# print(name_split.head(50))\n",
    "df_per_park['common_names']=name_split.str.get(0)\n",
    "df_per_park['common_names']=df_per_park.common_names.replace('Western Needle Grass', 'Western Needlegrass')\n",
    "df_per_park.isnull().sum()"
   ]
  },
  {
   "cell_type": "code",
   "execution_count": 8,
   "id": "d061e188-5918-4389-a348-357f7cabf736",
   "metadata": {},
   "outputs": [
    {
     "data": {
      "text/plain": [
       "park_name          0\n",
       "scientific_name    0\n",
       "common_names       0\n",
       "category           0\n",
       "observations       0\n",
       "genus              0\n",
       "dtype: int64"
      ]
     },
     "execution_count": 8,
     "metadata": {},
     "output_type": "execute_result"
    }
   ],
   "source": [
    "#In order for us to fit a number of unique species in a graph,\n",
    "#we need to add a new category genus from the scientific name\n",
    "#splitting the common name and taking only the first name\n",
    "\n",
    "df_per_park.scientific_name=df_per_park.scientific_name.astype('str')\n",
    "name_split=df_per_park.scientific_name.str.split(' ')\n",
    "# print(name_split.head(50))\n",
    "df_per_park['genus']=name_split.str.get(0)\n",
    "\n",
    "#save a csv copy for the cleaned file\n",
    "# df_per_park.to_csv('C:\\\\Users\\\\Admin\\\\Desktop\\\\Notebooks\\\\Biodiversity\\\\biodiversity_starter\\\\observations_clean.csv')\n",
    "df_per_park.isnull().sum()"
   ]
  },
  {
   "cell_type": "code",
   "execution_count": null,
   "id": "6a04abae-ae3b-4397-aa25-cf3f033ab0ff",
   "metadata": {},
   "outputs": [],
   "source": []
  }
 ],
 "metadata": {
  "kernelspec": {
   "display_name": "Python 3 (ipykernel)",
   "language": "python",
   "name": "python3"
  },
  "language_info": {
   "codemirror_mode": {
    "name": "ipython",
    "version": 3
   },
   "file_extension": ".py",
   "mimetype": "text/x-python",
   "name": "python",
   "nbconvert_exporter": "python",
   "pygments_lexer": "ipython3",
   "version": "3.9.13"
  }
 },
 "nbformat": 4,
 "nbformat_minor": 5
}
